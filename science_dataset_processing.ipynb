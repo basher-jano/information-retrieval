{
 "cells": [
  {
   "cell_type": "code",
   "execution_count": 7,
   "id": "4d23f85e-85bd-4ade-9517-c33ab923aa4e",
   "metadata": {},
   "outputs": [],
   "source": [
    "import pandas as pd\n",
    "from nltk.tokenize import word_tokenize\n",
    "from sklearn.feature_extraction.text import TfidfVectorizer\n",
    "from sklearn.metrics.pairwise import cosine_similarity\n",
    "import json\n",
    "from scipy import sparse\n",
    "import csv\n",
    "import pickle\n",
    "import numpy as np\n",
    "from gensim.models import Word2Vec\n",
    "import nltk\n",
    "from autocorrect import Speller\n",
    "spell = Speller(lang='en')"
   ]
  },
  {
   "cell_type": "code",
   "execution_count": 2,
   "id": "67041d46-c3c6-4697-ae68-93d229bdfd45",
   "metadata": {},
   "outputs": [],
   "source": [
    "original_docs = pd.read_csv('science_dataset/original_documents.csv')\n",
    "original_docs = original_docs.fillna('')"
   ]
  },
  {
   "cell_type": "code",
   "execution_count": 9,
   "id": "b2cd8862-5ca1-4663-bf12-7b9289ba6f41",
   "metadata": {},
   "outputs": [],
   "source": [
    "def dataProcessing(dfText):\n",
    "    processed_texts = []\n",
    "    lemmatizer = WordNetLemmatizer()\n",
    "\n",
    "    for text in dfText:\n",
    "        # Spell correction (assuming you have a spell() function)\n",
    "        text = \" \".join([spell(w) for w in word_tokenize(str(text))])\n",
    "        \n",
    "        # Convert to lowercase\n",
    "        text = text.lower()\n",
    "        \n",
    "        # Remove punctuation\n",
    "        text = re.sub('[' + string.punctuation + ']', ' ', text)\n",
    "        \n",
    "        # Remove non-alphanumeric characters\n",
    "        text = re.sub('[^a-zA-Z0-9\\s]', '', text)\n",
    "        \n",
    "        # Tokenize text\n",
    "        tokens = word_tokenize(text)\n",
    "        \n",
    "        # Remove stopwords\n",
    "        stop_words = set(stopwords.words('english'))\n",
    "        tokens = [word for word in tokens if word not in stop_words]\n",
    "        \n",
    "        # Lemmatize text\n",
    "        lemmatized_words = []\n",
    "        for word in tokens:\n",
    "            pos = pos_tag([word])[0][1][0].lower()\n",
    "            if pos.startswith('j'):\n",
    "                pos = 'a'  # Adjective\n",
    "            elif pos.startswith('v'):\n",
    "                pos = 'v'  # Verb\n",
    "            elif pos.startswith('r'):\n",
    "                pos = 'r'  # Adverb\n",
    "            else:\n",
    "                pos = 'n'  # Noun (default)\n",
    "            lemmatized_words.append(lemmatizer.lemmatize(word, pos=pos))\n",
    "        \n",
    "        processed_text = ' '.join(lemmatized_words)\n",
    "        processed_texts.append(processed_text)\n",
    "    \n",
    "    return processed_texts"
   ]
  },
  {
   "cell_type": "code",
   "execution_count": null,
   "id": "50cab899-b616-4875-978b-23d585d51f5a",
   "metadata": {},
   "outputs": [],
   "source": [
    "\n",
    "original_docs['text'] = dataProcessing(original_docs['text'])\n",
    "original_docs.to_csv('science_dataset/new_processed_documents.csv', index=True, index_label='id')"
   ]
  },
  {
   "cell_type": "code",
   "execution_count": null,
   "id": "62c03c82-bb9f-4128-a4c6-15dc9c352cbb",
   "metadata": {},
   "outputs": [],
   "source": [
    "# queries = pd.read_csv(\"original_queries.csv\")\n",
    "\n",
    "# queries['text'] = dataProcessing(queries['text'])\n",
    "# queries.to_csv('clean_queries.csv', index=True, index_label='id')"
   ]
  }
 ],
 "metadata": {
  "kernelspec": {
   "display_name": "Python 3 (ipykernel)",
   "language": "python",
   "name": "python3"
  },
  "language_info": {
   "codemirror_mode": {
    "name": "ipython",
    "version": 3
   },
   "file_extension": ".py",
   "mimetype": "text/x-python",
   "name": "python",
   "nbconvert_exporter": "python",
   "pygments_lexer": "ipython3",
   "version": "3.11.7"
  }
 },
 "nbformat": 4,
 "nbformat_minor": 5
}
