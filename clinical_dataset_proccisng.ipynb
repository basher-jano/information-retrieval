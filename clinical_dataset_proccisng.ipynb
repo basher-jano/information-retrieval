{
 "cells": [
  {
   "cell_type": "code",
   "execution_count": 1,
   "id": "3b14b478-9880-4dfb-aac0-e5d540534e16",
   "metadata": {},
   "outputs": [],
   "source": [
    "import ir_datasets"
   ]
  },
  {
   "cell_type": "code",
   "execution_count": 2,
   "id": "0f5486a3-c8bc-482e-8bb6-c8ef609c92d6",
   "metadata": {},
   "outputs": [],
   "source": [
    "dataset = ir_datasets.load(\"clinicaltrials/2017/trec-pm-2017\")"
   ]
  },
  {
   "cell_type": "code",
   "execution_count": 3,
   "id": "fac95eba-4571-444b-9325-d850abfaa8e3",
   "metadata": {},
   "outputs": [],
   "source": [
    "import pandas as pd"
   ]
  },
  {
   "cell_type": "code",
   "execution_count": 6,
   "id": "9ad838f6-89bf-43a2-ad9c-409f82c87ddb",
   "metadata": {},
   "outputs": [
    {
     "name": "stdout",
     "output_type": "stream",
     "text": [
      "             doc_id                                              title  \\\n",
      "0       NCT00530868  Comparing Letrozole Given Alone to Letrozole G...   \n",
      "1       NCT00530127  A Study Investigating the Safety and Tolerabil...   \n",
      "2       NCT00530517  A Study on the Usability of the Needle-Free In...   \n",
      "3       NCT00530972  Pilot Study of Patients Chronic Hepatitis C in...   \n",
      "4       NCT00530322  Adhesion Formation Following Laparoscopic and ...   \n",
      "...             ...                                                ...   \n",
      "241001  NCT00074802  Adding Cognitive Behavioral Therapy to Drug Tr...   \n",
      "241002  NCT00074139  Docetaxel, Doxorubicin, and Cyclophosphamide i...   \n",
      "241003  NCT00074178  Methotrexate, Cyclophosphamide, and Etoposide ...   \n",
      "241004  NCT00074035  Pentostatin in Treating Patients With Refracto...   \n",
      "241005  NCT00074646  Phase I Trial of CC-8490 for the Treatment of ...   \n",
      "\n",
      "       condition                                            summary  \\\n",
      "0                 \\n    \\n      This purpose of this trial is to...   \n",
      "1                 \\n    \\n      The primary objective of this st...   \n",
      "2                 \\n    \\n      Intraject is a needle-free, sing...   \n",
      "3                 \\n    \\n      To determine the efficacy and sa...   \n",
      "4                 \\n    \\n      To ascertain whether there are f...   \n",
      "...          ...                                                ...   \n",
      "241001            \\n    \\n      This study will determine whethe...   \n",
      "241002            \\n    \\n      RATIONALE: Drugs used in chemoth...   \n",
      "241003            \\n    \\n      RATIONALE: Drugs used in chemoth...   \n",
      "241004            \\n    \\n      RATIONALE: Pentostatin may be ef...   \n",
      "241005            \\n    \\n      Phase I trial of CC-8490 for the...   \n",
      "\n",
      "                                     detailed_description  \\\n",
      "0       \\n    \\n      Preclinical and clinical data ha...   \n",
      "1       \\n    \\n      This will be a multi-centre, dou...   \n",
      "2       \\n    \\n      This study will evaluate how pat...   \n",
      "3       \\n    \\n      An important number of co-infect...   \n",
      "4                                                           \n",
      "...                                                   ...   \n",
      "241001  \\n    \\n      Social anxiety disorder is a pre...   \n",
      "241002  \\n    \\n      OBJECTIVES:\\n\\n      Primary\\n\\n...   \n",
      "241003  \\n    \\n      OBJECTIVES:\\n\\n      Primary\\n\\n...   \n",
      "241004  \\n    \\n      OBJECTIVES:\\n\\n      Primary\\n\\n...   \n",
      "241005                                                      \n",
      "\n",
      "                                              eligibility  \n",
      "0       \\n      \\n        Inclusion Criteria:\\n\\n     ...  \n",
      "1       \\n      \\n        Inclusion Criteria:\\n\\n     ...  \n",
      "2       \\n      \\n        Inclusion Criteria:\\n\\n     ...  \n",
      "3       \\n      \\n        Inclusion Criteria:\\n\\n     ...  \n",
      "4       \\n      \\n        Inclusion Criteria:\\n\\n     ...  \n",
      "...                                                   ...  \n",
      "241001  \\n      \\n        Inclusion Criteria:\\n\\n     ...  \n",
      "241002  \\n      \\n        DISEASE CHARACTERISTICS:\\n\\n...  \n",
      "241003  \\n      \\n        DISEASE CHARACTERISTICS:\\n\\n...  \n",
      "241004  \\n      \\n        1. Histologic documentation ...  \n",
      "241005  \\n      \\n        Inclusion Criteria:\\n\\n     ...  \n",
      "\n",
      "[241006 rows x 6 columns]\n"
     ]
    }
   ],
   "source": [
    "queries = pd.DataFrame(dataset.queries_iter())\n",
    "docs = pd.DataFrame(dataset.docs)\n",
    "print(docs)\n",
    "qrels = pd.DataFrame(dataset.qrels_iter())\n",
    "queries.to_csv(\"clinical_dataset/original_queries.csv\", index=False)\n",
    "docs.to_csv(\"clinical_dataset/original_docs.csv\", index=False)\n",
    "qrels.to_csv(\"clinical_dataset/qrels.csv\", index=False)"
   ]
  },
  {
   "cell_type": "code",
   "execution_count": 4,
   "id": "0fc370eb-089e-4e82-a9a2-a27011cb36dc",
   "metadata": {},
   "outputs": [],
   "source": [
    "from nltk.corpus import stopwords, wordnet\n",
    "from nltk import pos_tag\n",
    "from nltk.stem import WordNetLemmatizer\n",
    "import string\n",
    "import re\n",
    "from nltk.tokenize import word_tokenize"
   ]
  },
  {
   "cell_type": "code",
   "execution_count": 5,
   "id": "2bd716ca-d5eb-4da3-95f9-845a2ea658c4",
   "metadata": {},
   "outputs": [],
   "source": [
    "def dataProcessing(dfText):\n",
    "    \n",
    "#\n",
    "    \n",
    "    # To lower case\n",
    "    texts = dfText.str.lower()\n",
    "    \n",
    "    # Remove punctuation\n",
    "    trans_table = str.maketrans(string.punctuation, ' '*len(string.punctuation))  \n",
    "    texts = [str(word).translate(trans_table) for word in texts]\n",
    "\n",
    "    # Remove stopwrods\n",
    "    stop_words = set(stopwords.words('english'))\n",
    "    texts = [[word for word in q.split() if word not in stop_words] for q in texts]\n",
    "    \n",
    "    # Lemmatize text\n",
    "    lemmatizer = WordNetLemmatizer()\n",
    "    lemmatized_strings = []\n",
    "    for text in texts:\n",
    "        words = word_tokenize(str(text))\n",
    "        lemmatized_words = []\n",
    "        for word in text:\n",
    "            x = pos_tag([word])\n",
    "            my_pos = wordnet.NOUN\n",
    "            if x[0][1][0].lower() == 'v':\n",
    "                my_pos = wordnet.VERB\n",
    "            lemmatized_words.append(lemmatizer.lemmatize(word, pos = my_pos))\n",
    "        lemmatized_strings.append(' '.join(lemmatized_words))\n",
    "    texts = lemmatized_strings\n",
    "\n",
    "    \n",
    "    # Remove Non-alphanumeric Characters\n",
    "    texts = [re.compile('[^a-zA-Z0-9\\s]').sub('', str(word)) for word in texts]\n",
    "    \n",
    "    return texts\n",
    "    "
   ]
  },
  {
   "cell_type": "code",
   "execution_count": 6,
   "id": "0978bf99-c75b-48f8-aee6-c28e47d36181",
   "metadata": {},
   "outputs": [],
   "source": [
    "docs= pd.read_csv(\"clinical_dataset/original_docs.csv\")\n",
    "\n",
    "docs['text'] = dataProcessing(docs['title'])\n",
    "docs.to_csv('clinical_dataset/processed_docs.csv', index=True, index_label='id')"
   ]
  },
  {
   "cell_type": "code",
   "execution_count": 8,
   "id": "1fa336a1-a0a5-4a43-ab23-6849bcae9bed",
   "metadata": {},
   "outputs": [],
   "source": [
    "queries = pd.read_csv(\"clinical_dataset/original_queries.csv\")\n",
    "\n",
    "queries['disease'] = dataProcessing(queries['disease'])\n",
    "queries['gene'] = dataProcessing(queries['gene'])\n",
    "queries['demographic'] = dataProcessing(queries['demographic'])\n",
    "queries['other'] = dataProcessing(queries['other'])\n",
    "\n",
    "queries.to_csv('clinical_dataset/clean_queries.csv', index=True, index_label='id')"
   ]
  },
  {
   "cell_type": "code",
   "execution_count": null,
   "id": "8b17f649-d86a-4320-91fe-0da115a585b2",
   "metadata": {},
   "outputs": [],
   "source": []
  }
 ],
 "metadata": {
  "kernelspec": {
   "display_name": "Python 3 (ipykernel)",
   "language": "python",
   "name": "python3"
  },
  "language_info": {
   "codemirror_mode": {
    "name": "ipython",
    "version": 3
   },
   "file_extension": ".py",
   "mimetype": "text/x-python",
   "name": "python",
   "nbconvert_exporter": "python",
   "pygments_lexer": "ipython3",
   "version": "3.11.7"
  }
 },
 "nbformat": 4,
 "nbformat_minor": 5
}
